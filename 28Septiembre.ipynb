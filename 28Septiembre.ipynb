{
  "nbformat": 4,
  "nbformat_minor": 0,
  "metadata": {
    "colab": {
      "name": "28Septiembre.ipynb",
      "provenance": [],
      "authorship_tag": "ABX9TyPeVt4YKXuNgIMt+SFagqsx",
      "include_colab_link": true
    },
    "kernelspec": {
      "name": "python3",
      "display_name": "Python 3"
    }
  },
  "cells": [
    {
      "cell_type": "markdown",
      "metadata": {
        "id": "view-in-github",
        "colab_type": "text"
      },
      "source": [
        "<a href=\"https://colab.research.google.com/github/AlanQuintero-FES/daa_2021_1/blob/master/28Septiembre.ipynb\" target=\"_parent\"><img src=\"https://colab.research.google.com/assets/colab-badge.svg\" alt=\"Open In Colab\"/></a>"
      ]
    },
    {
      "cell_type": "markdown",
      "metadata": {
        "id": "G1H6nDLcRHqR"
      },
      "source": [
        "# Sección 1\n",
        "**Negritas**\n",
        "_Italica_"
      ]
    },
    {
      "cell_type": "code",
      "metadata": {
        "id": "bD5lSe4pR6JQ",
        "outputId": "08689f83-d3a1-4f37-b9c4-452b3d05e7b7",
        "colab": {
          "base_uri": "https://localhost:8080/",
          "height": 34
        }
      },
      "source": [
        "frutas = []\n",
        "frutas.append('Manzana')\n",
        "frutas.append('Piña')\n",
        "frutas.append('Kiwi')\n",
        "print(frutas)"
      ],
      "execution_count": 5,
      "outputs": [
        {
          "output_type": "stream",
          "text": [
            "['Manzana', 'Piña', 'Kiwi']\n"
          ],
          "name": "stdout"
        }
      ]
    },
    {
      "cell_type": "code",
      "metadata": {
        "id": "ljCOznMPRP4U"
      },
      "source": [
        "archivo = open('prueba_daa.txt','wt')\n",
        "archivo.write('Hola mundo Jupyter')\n",
        "archivo.close()"
      ],
      "execution_count": 4,
      "outputs": []
    }
  ]
}